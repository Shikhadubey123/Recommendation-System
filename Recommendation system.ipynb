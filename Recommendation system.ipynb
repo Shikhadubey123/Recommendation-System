{
  "nbformat": 4,
  "nbformat_minor": 0,
  "metadata": {
    "colab": {
      "name": "Untitled",
      "provenance": []
    },
    "kernelspec": {
      "name": "python3",
      "display_name": "Python 3"
    }
  },
  "cells": [
    {
      "cell_type": "code",
      "metadata": {
        "id": "l4oMwgQMUNpw",
        "colab_type": "code",
        "colab": {}
      },
      "source": [
        "# import lab\n",
        "import pandas as pd\n",
        "import numpy as np\n",
        "import gensim\n",
        "from random import sample"
      ],
      "execution_count": 9,
      "outputs": []
    },
    {
      "cell_type": "code",
      "metadata": {
        "id": "Izn4mMDodg9L",
        "colab_type": "code",
        "colab": {}
      },
      "source": [
        "# Load data\n",
        "train_df = pd.read_csv('train.csv')\n",
        "test_df = pd.read_csv('test.csv')\n"
      ],
      "execution_count": 10,
      "outputs": []
    },
    {
      "cell_type": "code",
      "metadata": {
        "id": "m9f9CqJKe81i",
        "colab_type": "code",
        "colab": {
          "base_uri": "https://localhost:8080/",
          "height": 102
        },
        "outputId": "cc16e98a-3f22-412d-879b-fbed4e1ac258"
      },
      "source": [
        "train_df.isnull().sum()"
      ],
      "execution_count": 11,
      "outputs": [
        {
          "output_type": "execute_result",
          "data": {
            "text/plain": [
              "user_sequence         0\n",
              "user_id               0\n",
              "challenge_sequence    0\n",
              "challenge             0\n",
              "dtype: int64"
            ]
          },
          "metadata": {
            "tags": []
          },
          "execution_count": 11
        }
      ]
    },
    {
      "cell_type": "code",
      "metadata": {
        "id": "GMYn4xaOfEbb",
        "colab_type": "code",
        "colab": {
          "base_uri": "https://localhost:8080/",
          "height": 102
        },
        "outputId": "7ad2befb-b414-4ca5-fdc7-42079726db2d"
      },
      "source": [
        "test_df.isnull().sum()"
      ],
      "execution_count": 12,
      "outputs": [
        {
          "output_type": "execute_result",
          "data": {
            "text/plain": [
              "user_sequence         0\n",
              "user_id               0\n",
              "challenge_sequence    0\n",
              "challenge             0\n",
              "dtype: int64"
            ]
          },
          "metadata": {
            "tags": []
          },
          "execution_count": 12
        }
      ]
    },
    {
      "cell_type": "code",
      "metadata": {
        "id": "BHEremQlfOhn",
        "colab_type": "code",
        "colab": {
          "base_uri": "https://localhost:8080/",
          "height": 493
        },
        "outputId": "4ccfe962-58ed-40cf-d068-f8ec97a64ea3"
      },
      "source": [
        "train_df,test_df.info"
      ],
      "execution_count": 13,
      "outputs": [
        {
          "output_type": "execute_result",
          "data": {
            "text/plain": [
              "(       user_sequence  user_id  challenge_sequence challenge\n",
              " 0             4576_1     4576                   1   CI23714\n",
              " 1             4576_2     4576                   2   CI23855\n",
              " 2             4576_3     4576                   3   CI24917\n",
              " 3             4576_4     4576                   4   CI23663\n",
              " 4             4576_5     4576                   5   CI23933\n",
              " ...              ...      ...                 ...       ...\n",
              " 903911      113839_9   113839                   9   CI24992\n",
              " 903912     113839_10   113839                  10   CI28586\n",
              " 903913     113839_11   113839                  11   CI28610\n",
              " 903914     113839_12   113839                  12   CI26388\n",
              " 903915     113839_13   113839                  13   CI28630\n",
              " \n",
              " [903916 rows x 4 columns],\n",
              " <bound method DataFrame.info of        user_sequence  user_id  challenge_sequence challenge\n",
              " 0             4577_1     4577                   1   CI23855\n",
              " 1             4577_2     4577                   2   CI23933\n",
              " 2             4577_3     4577                   3   CI24917\n",
              " 3             4577_4     4577                   4   CI24915\n",
              " 4             4577_5     4577                   5   CI23714\n",
              " ...              ...      ...                 ...       ...\n",
              " 397315      113838_6   113838                   6   CI23691\n",
              " 397316      113838_7   113838                   7   CI24138\n",
              " 397317      113838_8   113838                   8   CI23714\n",
              " 397318      113838_9   113838                   9   CI24530\n",
              " 397319     113838_10   113838                  10   CI23612\n",
              " \n",
              " [397320 rows x 4 columns]>)"
            ]
          },
          "metadata": {
            "tags": []
          },
          "execution_count": 13
        }
      ]
    },
    {
      "cell_type": "code",
      "metadata": {
        "id": "RuRX0a78dtTG",
        "colab_type": "code",
        "colab": {
          "base_uri": "https://localhost:8080/",
          "height": 34
        },
        "outputId": "9c08ed1f-633e-4ed4-c2fe-c8c08006d5e9"
      },
      "source": [
        "train_df.shape, test_df.shape"
      ],
      "execution_count": 14,
      "outputs": [
        {
          "output_type": "execute_result",
          "data": {
            "text/plain": [
              "((903916, 4), (397320, 4))"
            ]
          },
          "metadata": {
            "tags": []
          },
          "execution_count": 14
        }
      ]
    },
    {
      "cell_type": "code",
      "metadata": {
        "id": "7AK3KEDdeumW",
        "colab_type": "code",
        "colab": {}
      },
      "source": [
        "train=train_df.groupby('user_id').challenge.apply(lambda x: ' '.join(x)).reset_index()"
      ],
      "execution_count": 15,
      "outputs": []
    },
    {
      "cell_type": "code",
      "metadata": {
        "id": "dO7yVzyEkO9Y",
        "colab_type": "code",
        "colab": {
          "base_uri": "https://localhost:8080/",
          "height": 419
        },
        "outputId": "3cf03043-6a94-4d98-d680-3df508b65275"
      },
      "source": [
        "train"
      ],
      "execution_count": 16,
      "outputs": [
        {
          "output_type": "execute_result",
          "data": {
            "text/html": [
              "<div>\n",
              "<style scoped>\n",
              "    .dataframe tbody tr th:only-of-type {\n",
              "        vertical-align: middle;\n",
              "    }\n",
              "\n",
              "    .dataframe tbody tr th {\n",
              "        vertical-align: top;\n",
              "    }\n",
              "\n",
              "    .dataframe thead th {\n",
              "        text-align: right;\n",
              "    }\n",
              "</style>\n",
              "<table border=\"1\" class=\"dataframe\">\n",
              "  <thead>\n",
              "    <tr style=\"text-align: right;\">\n",
              "      <th></th>\n",
              "      <th>user_id</th>\n",
              "      <th>challenge</th>\n",
              "    </tr>\n",
              "  </thead>\n",
              "  <tbody>\n",
              "    <tr>\n",
              "      <th>0</th>\n",
              "      <td>4576</td>\n",
              "      <td>CI23714 CI23855 CI24917 CI23663 CI23933 CI2513...</td>\n",
              "    </tr>\n",
              "    <tr>\n",
              "      <th>1</th>\n",
              "      <td>4580</td>\n",
              "      <td>CI23663 CI23855 CI23933 CI23975 CI24530 CI2371...</td>\n",
              "    </tr>\n",
              "    <tr>\n",
              "      <th>2</th>\n",
              "      <td>4581</td>\n",
              "      <td>CI26155 CI26156 CI26157 CI26158 CI26159 CI2616...</td>\n",
              "    </tr>\n",
              "    <tr>\n",
              "      <th>3</th>\n",
              "      <td>4582</td>\n",
              "      <td>CI23855 CI24915 CI24917 CI23933 CI23663 CI2495...</td>\n",
              "    </tr>\n",
              "    <tr>\n",
              "      <th>4</th>\n",
              "      <td>4585</td>\n",
              "      <td>CI23855 CI23975 CI24917 CI25135 CI23848 CI2371...</td>\n",
              "    </tr>\n",
              "    <tr>\n",
              "      <th>...</th>\n",
              "      <td>...</td>\n",
              "      <td>...</td>\n",
              "    </tr>\n",
              "    <tr>\n",
              "      <th>69527</th>\n",
              "      <td>113833</td>\n",
              "      <td>CI23933 CI24530 CI25298 CI24876 CI26056 CI2443...</td>\n",
              "    </tr>\n",
              "    <tr>\n",
              "      <th>69528</th>\n",
              "      <td>113835</td>\n",
              "      <td>CI23855 CI23933 CI25258 CI23769 CI25024 CI2502...</td>\n",
              "    </tr>\n",
              "    <tr>\n",
              "      <th>69529</th>\n",
              "      <td>113836</td>\n",
              "      <td>CI24230 CI24931 CI26051 CI26920 CI24957 CI2495...</td>\n",
              "    </tr>\n",
              "    <tr>\n",
              "      <th>69530</th>\n",
              "      <td>113837</td>\n",
              "      <td>CI23880 CI23933 CI26052 CI24866 CI25049 CI2567...</td>\n",
              "    </tr>\n",
              "    <tr>\n",
              "      <th>69531</th>\n",
              "      <td>113839</td>\n",
              "      <td>CI24915 CI24931 CI24954 CI24968 CI24957 CI2572...</td>\n",
              "    </tr>\n",
              "  </tbody>\n",
              "</table>\n",
              "<p>69532 rows × 2 columns</p>\n",
              "</div>"
            ],
            "text/plain": [
              "       user_id                                          challenge\n",
              "0         4576  CI23714 CI23855 CI24917 CI23663 CI23933 CI2513...\n",
              "1         4580  CI23663 CI23855 CI23933 CI23975 CI24530 CI2371...\n",
              "2         4581  CI26155 CI26156 CI26157 CI26158 CI26159 CI2616...\n",
              "3         4582  CI23855 CI24915 CI24917 CI23933 CI23663 CI2495...\n",
              "4         4585  CI23855 CI23975 CI24917 CI25135 CI23848 CI2371...\n",
              "...        ...                                                ...\n",
              "69527   113833  CI23933 CI24530 CI25298 CI24876 CI26056 CI2443...\n",
              "69528   113835  CI23855 CI23933 CI25258 CI23769 CI25024 CI2502...\n",
              "69529   113836  CI24230 CI24931 CI26051 CI26920 CI24957 CI2495...\n",
              "69530   113837  CI23880 CI23933 CI26052 CI24866 CI25049 CI2567...\n",
              "69531   113839  CI24915 CI24931 CI24954 CI24968 CI24957 CI2572...\n",
              "\n",
              "[69532 rows x 2 columns]"
            ]
          },
          "metadata": {
            "tags": []
          },
          "execution_count": 16
        }
      ]
    },
    {
      "cell_type": "code",
      "metadata": {
        "id": "35IG1AwxkSc4",
        "colab_type": "code",
        "colab": {
          "base_uri": "https://localhost:8080/",
          "height": 419
        },
        "outputId": "1bd42a37-a48e-4e42-8fd6-6928433ddfd3"
      },
      "source": [
        "test=test_df.groupby('user_id').challenge.apply(lambda x: ' '.join(x)).reset_index()\n",
        "test"
      ],
      "execution_count": 17,
      "outputs": [
        {
          "output_type": "execute_result",
          "data": {
            "text/html": [
              "<div>\n",
              "<style scoped>\n",
              "    .dataframe tbody tr th:only-of-type {\n",
              "        vertical-align: middle;\n",
              "    }\n",
              "\n",
              "    .dataframe tbody tr th {\n",
              "        vertical-align: top;\n",
              "    }\n",
              "\n",
              "    .dataframe thead th {\n",
              "        text-align: right;\n",
              "    }\n",
              "</style>\n",
              "<table border=\"1\" class=\"dataframe\">\n",
              "  <thead>\n",
              "    <tr style=\"text-align: right;\">\n",
              "      <th></th>\n",
              "      <th>user_id</th>\n",
              "      <th>challenge</th>\n",
              "    </tr>\n",
              "  </thead>\n",
              "  <tbody>\n",
              "    <tr>\n",
              "      <th>0</th>\n",
              "      <td>4577</td>\n",
              "      <td>CI23855 CI23933 CI24917 CI24915 CI23714 CI2366...</td>\n",
              "    </tr>\n",
              "    <tr>\n",
              "      <th>1</th>\n",
              "      <td>4578</td>\n",
              "      <td>CI23663 CI23855 CI24917 CI23933 CI23975 CI2371...</td>\n",
              "    </tr>\n",
              "    <tr>\n",
              "      <th>2</th>\n",
              "      <td>4579</td>\n",
              "      <td>CI26939 CI26940 CI26941 CI26942 CI26943 CI2694...</td>\n",
              "    </tr>\n",
              "    <tr>\n",
              "      <th>3</th>\n",
              "      <td>4583</td>\n",
              "      <td>CI23663 CI23855 CI23975 CI23714 CI23848 CI2393...</td>\n",
              "    </tr>\n",
              "    <tr>\n",
              "      <th>4</th>\n",
              "      <td>4584</td>\n",
              "      <td>CI23855 CI23975 CI25135 CI23848 CI23714 CI2491...</td>\n",
              "    </tr>\n",
              "    <tr>\n",
              "      <th>...</th>\n",
              "      <td>...</td>\n",
              "      <td>...</td>\n",
              "    </tr>\n",
              "    <tr>\n",
              "      <th>39727</th>\n",
              "      <td>113829</td>\n",
              "      <td>CI23663 CI23933 CI25298 CI24876 CI25297 CI2437...</td>\n",
              "    </tr>\n",
              "    <tr>\n",
              "      <th>39728</th>\n",
              "      <td>113830</td>\n",
              "      <td>CI23929 CI23933 CI24230 CI23769 CI23662 CI2369...</td>\n",
              "    </tr>\n",
              "    <tr>\n",
              "      <th>39729</th>\n",
              "      <td>113831</td>\n",
              "      <td>CI23933 CI24621 CI24953 CI24206 CI26056 CI2487...</td>\n",
              "    </tr>\n",
              "    <tr>\n",
              "      <th>39730</th>\n",
              "      <td>113834</td>\n",
              "      <td>CI23663 CI24621 CI24931 CI24939 CI24940 CI2492...</td>\n",
              "    </tr>\n",
              "    <tr>\n",
              "      <th>39731</th>\n",
              "      <td>113838</td>\n",
              "      <td>CI23769 CI23933 CI25175 CI24866 CI23648 CI2369...</td>\n",
              "    </tr>\n",
              "  </tbody>\n",
              "</table>\n",
              "<p>39732 rows × 2 columns</p>\n",
              "</div>"
            ],
            "text/plain": [
              "       user_id                                          challenge\n",
              "0         4577  CI23855 CI23933 CI24917 CI24915 CI23714 CI2366...\n",
              "1         4578  CI23663 CI23855 CI24917 CI23933 CI23975 CI2371...\n",
              "2         4579  CI26939 CI26940 CI26941 CI26942 CI26943 CI2694...\n",
              "3         4583  CI23663 CI23855 CI23975 CI23714 CI23848 CI2393...\n",
              "4         4584  CI23855 CI23975 CI25135 CI23848 CI23714 CI2491...\n",
              "...        ...                                                ...\n",
              "39727   113829  CI23663 CI23933 CI25298 CI24876 CI25297 CI2437...\n",
              "39728   113830  CI23929 CI23933 CI24230 CI23769 CI23662 CI2369...\n",
              "39729   113831  CI23933 CI24621 CI24953 CI24206 CI26056 CI2487...\n",
              "39730   113834  CI23663 CI24621 CI24931 CI24939 CI24940 CI2492...\n",
              "39731   113838  CI23769 CI23933 CI25175 CI24866 CI23648 CI2369...\n",
              "\n",
              "[39732 rows x 2 columns]"
            ]
          },
          "metadata": {
            "tags": []
          },
          "execution_count": 17
        }
      ]
    },
    {
      "cell_type": "code",
      "metadata": {
        "id": "YrTn-VhTkj80",
        "colab_type": "code",
        "colab": {
          "base_uri": "https://localhost:8080/",
          "height": 34
        },
        "outputId": "c86f930f-0a13-412c-a7ac-ed0b570f699a"
      },
      "source": [
        "set(train.user_id).intersection(test.user_id )"
      ],
      "execution_count": 18,
      "outputs": [
        {
          "output_type": "execute_result",
          "data": {
            "text/plain": [
              "set()"
            ]
          },
          "metadata": {
            "tags": []
          },
          "execution_count": 18
        }
      ]
    },
    {
      "cell_type": "code",
      "metadata": {
        "id": "TrvAtDxgtN5c",
        "colab_type": "code",
        "colab": {}
      },
      "source": [
        "sentence_list=pd.concat((train.challenge,test.challenge)).apply(lambda x: x.split())\n",
        "#sentence_list= train.challenge.apply(lambda x: x.split())\n"
      ],
      "execution_count": 21,
      "outputs": []
    },
    {
      "cell_type": "code",
      "metadata": {
        "id": "dFKFUv6cSPn3",
        "colab_type": "code",
        "colab": {
          "base_uri": "https://localhost:8080/",
          "height": 71
        },
        "outputId": "91d81bd2-1a12-4c2f-9348-130f27db2342"
      },
      "source": [
        "neg=10\n",
        "itera=90\n",
        "window=6\n",
        "size=600\n",
        "model=gensim.models.Word2Vec(sentence_list,size=size,window=window,workers=8,min_count=0, hs=1,iter=itera,sg=1)\n",
        "model.save('word2vec1_file')"
      ],
      "execution_count": 25,
      "outputs": [
        {
          "output_type": "stream",
          "text": [
            "/usr/local/lib/python3.6/dist-packages/smart_open/smart_open_lib.py:253: UserWarning: This function is deprecated, use smart_open.open instead. See the migration notes for details: https://github.com/RaRe-Technologies/smart_open/blob/master/README.rst#migrating-to-the-new-open-function\n",
            "  'See the migration notes for details: %s' % _MIGRATION_NOTES_URL\n"
          ],
          "name": "stderr"
        }
      ]
    },
    {
      "cell_type": "code",
      "metadata": {
        "id": "Bz4useYaUiyk",
        "colab_type": "code",
        "colab": {}
      },
      "source": [
        " #model= gensim.models.Word2Vec.load('word2vec_solved_iter__noshuf_5window_100_size_500')"
      ],
      "execution_count": 26,
      "outputs": []
    },
    {
      "cell_type": "code",
      "metadata": {
        "id": "U-ceiHbvSbqb",
        "colab_type": "code",
        "colab": {
          "base_uri": "https://localhost:8080/",
          "height": 71
        },
        "outputId": "ffa9346d-4b46-417b-8fcc-aace89845c70"
      },
      "source": [
        "model= gensim.models.Word2Vec.load('word2vec1_file')"
      ],
      "execution_count": 27,
      "outputs": [
        {
          "output_type": "stream",
          "text": [
            "/usr/local/lib/python3.6/dist-packages/smart_open/smart_open_lib.py:253: UserWarning: This function is deprecated, use smart_open.open instead. See the migration notes for details: https://github.com/RaRe-Technologies/smart_open/blob/master/README.rst#migrating-to-the-new-open-function\n",
            "  'See the migration notes for details: %s' % _MIGRATION_NOTES_URL\n"
          ],
          "name": "stderr"
        }
      ]
    },
    {
      "cell_type": "code",
      "metadata": {
        "id": "8x4FcUoKu5vo",
        "colab_type": "code",
        "colab": {
          "base_uri": "https://localhost:8080/",
          "height": 275
        },
        "outputId": "4b2abc75-e019-4ee6-8ab0-46c737dcc18c"
      },
      "source": [
        "model.most_similar('CI23855')"
      ],
      "execution_count": 28,
      "outputs": [
        {
          "output_type": "stream",
          "text": [
            "/usr/local/lib/python3.6/dist-packages/ipykernel_launcher.py:1: DeprecationWarning: Call to deprecated `most_similar` (Method will be removed in 4.0.0, use self.wv.most_similar() instead).\n",
            "  \"\"\"Entry point for launching an IPython kernel.\n",
            "/usr/local/lib/python3.6/dist-packages/gensim/matutils.py:737: FutureWarning: Conversion of the second argument of issubdtype from `int` to `np.signedinteger` is deprecated. In future, it will be treated as `np.int64 == np.dtype(int).type`.\n",
            "  if np.issubdtype(vec.dtype, np.int):\n"
          ],
          "name": "stderr"
        },
        {
          "output_type": "execute_result",
          "data": {
            "text/plain": [
              "[('CI23663', 0.32980796694755554),\n",
              " ('CI23975', 0.3227970004081726),\n",
              " ('CI25135', 0.31081363558769226),\n",
              " ('CI23933', 0.29589593410491943),\n",
              " ('CI23714', 0.29483652114868164),\n",
              " ('CI24915', 0.28315097093582153),\n",
              " ('CI23913', 0.28143778443336487),\n",
              " ('CI24958', 0.25591856241226196),\n",
              " ('CI25124', 0.24800172448158264),\n",
              " ('CI23848', 0.24483412504196167)]"
            ]
          },
          "metadata": {
            "tags": []
          },
          "execution_count": 28
        }
      ]
    },
    {
      "cell_type": "code",
      "metadata": {
        "id": "b87n5GDCrYJZ",
        "colab_type": "code",
        "colab": {}
      },
      "source": [
        "from keras.models import Sequential\n",
        "from keras.layers.core import Dense, Dropout, Activation\n",
        "from keras.layers import  TimeDistributed, concatenate, Bidirectional, Masking, RepeatVector\n",
        "from keras.layers.embeddings import Embedding\n",
        "from keras.layers.recurrent import LSTM, GRU, SimpleRNN\n",
        "from keras.layers.convolutional import Convolution1D, MaxPooling1D"
      ],
      "execution_count": 45,
      "outputs": []
    },
    {
      "cell_type": "code",
      "metadata": {
        "id": "XpZyRWVMvOjT",
        "colab_type": "code",
        "colab": {
          "base_uri": "https://localhost:8080/",
          "height": 88
        },
        "outputId": "5dffd507-7812-4785-8b5f-9a7862d460df"
      },
      "source": [
        "pretrained_weights = model.wv.syn0\n",
        "vocab_size, emdedding_size = pretrained_weights.shape\n",
        "print('Result embedding shape:', pretrained_weights.shape)"
      ],
      "execution_count": 46,
      "outputs": [
        {
          "output_type": "stream",
          "text": [
            "Result embedding shape: (5502, 600)\n"
          ],
          "name": "stdout"
        },
        {
          "output_type": "stream",
          "text": [
            "/usr/local/lib/python3.6/dist-packages/ipykernel_launcher.py:1: DeprecationWarning: Call to deprecated `syn0` (Attribute will be removed in 4.0.0, use self.wv.vectors instead).\n",
            "  \"\"\"Entry point for launching an IPython kernel.\n"
          ],
          "name": "stderr"
        }
      ]
    },
    {
      "cell_type": "code",
      "metadata": {
        "id": "VDTMuHzcvXDD",
        "colab_type": "code",
        "colab": {
          "base_uri": "https://localhost:8080/",
          "height": 34
        },
        "outputId": "0a468913-c193-41c0-8b51-d725824b5057"
      },
      "source": [
        "pretrained_weights.shape"
      ],
      "execution_count": 47,
      "outputs": [
        {
          "output_type": "execute_result",
          "data": {
            "text/plain": [
              "(5502, 600)"
            ]
          },
          "metadata": {
            "tags": []
          },
          "execution_count": 47
        }
      ]
    },
    {
      "cell_type": "code",
      "metadata": {
        "id": "PBewbzHBvhyo",
        "colab_type": "code",
        "colab": {}
      },
      "source": [
        "def word2idx(word):\n",
        "  return model.wv.vocab[word].index\n",
        "def idx2word(idx):\n",
        "  return model.wv.index2word[idx]"
      ],
      "execution_count": 48,
      "outputs": []
    },
    {
      "cell_type": "code",
      "metadata": {
        "id": "cVEyqrvsvl3L",
        "colab_type": "code",
        "colab": {}
      },
      "source": [
        "# generate int sequences for challenge sentences\n",
        "train_seq=np.array(train.challenge.apply(lambda x: x.split()).apply(lambda x: ([(word2idx(y)) for y in x])).tolist())\n",
        "test_seq=np.array(test.challenge.apply(lambda x: x.split()).apply(lambda x: ([(word2idx(y)) for y in x])).tolist())"
      ],
      "execution_count": 49,
      "outputs": []
    },
    {
      "cell_type": "code",
      "metadata": {
        "id": "vQtXZ2xRvsMt",
        "colab_type": "code",
        "colab": {
          "base_uri": "https://localhost:8080/",
          "height": 34
        },
        "outputId": "ba2a7824-cd50-4eab-a5e6-ba0ba5890819"
      },
      "source": [
        "train_seq.shape"
      ],
      "execution_count": 50,
      "outputs": [
        {
          "output_type": "execute_result",
          "data": {
            "text/plain": [
              "(69532, 13)"
            ]
          },
          "metadata": {
            "tags": []
          },
          "execution_count": 50
        }
      ]
    },
    {
      "cell_type": "code",
      "metadata": {
        "id": "cXD9BAh_v1Mm",
        "colab_type": "code",
        "colab": {
          "base_uri": "https://localhost:8080/",
          "height": 34
        },
        "outputId": "d3bb5d46-037b-438a-ebee-ebe8d5d008fe"
      },
      "source": [
        "xtrain=train_seq[:,:10]\n",
        "ytrain= train_seq[:,10]\n",
        "xtrain.shape, ytrain.shape"
      ],
      "execution_count": 51,
      "outputs": [
        {
          "output_type": "execute_result",
          "data": {
            "text/plain": [
              "((69532, 10), (69532,))"
            ]
          },
          "metadata": {
            "tags": []
          },
          "execution_count": 51
        }
      ]
    },
    {
      "cell_type": "code",
      "metadata": {
        "id": "BrSn5aJYwAEU",
        "colab_type": "code",
        "colab": {}
      },
      "source": [
        "# add 11th,12th,13th challenge to outcome\n",
        "xtrain= np.concatenate((xtrain,xtrain,xtrain),axis=0)\n",
        "ytrain= np.concatenate((train_seq[:,10],train_seq[:,11],train_seq[:,12]))"
      ],
      "execution_count": 52,
      "outputs": []
    },
    {
      "cell_type": "code",
      "metadata": {
        "id": "aA7Qa6-Yq4sP",
        "colab_type": "code",
        "colab": {}
      },
      "source": [
        "# define nn model\n",
        "emdedding_size=600\n",
        "vocab_size=5502\n",
        "keras_model2 = Sequential()\n",
        "keras_model2.add(Embedding(input_dim=vocab_size, output_dim=emdedding_size, \n",
        "                    weights=[pretrained_weights]))\n",
        "keras_model2.add(GRU(units=emdedding_size))\n",
        "keras_model2.add(Dense(units=vocab_size))\n",
        "\n",
        "keras_model2.add(Activation('softmax'))\n",
        "keras_model2.compile(optimizer='adam', loss='sparse_categorical_crossentropy',metrics = ['accuracy'])\n"
      ],
      "execution_count": 53,
      "outputs": []
    },
    {
      "cell_type": "code",
      "metadata": {
        "id": "HiWuyMzn2Rwj",
        "colab_type": "code",
        "colab": {}
      },
      "source": [
        "sample_weight=np.concatenate((np.ones(train.shape[0])*3,np.ones(train.shape[0])*2,np.ones(train.shape[0])))"
      ],
      "execution_count": 54,
      "outputs": []
    },
    {
      "cell_type": "code",
      "metadata": {
        "id": "lcVGxiCn2W2p",
        "colab_type": "code",
        "colab": {
          "base_uri": "https://localhost:8080/",
          "height": 1000
        },
        "outputId": "221e4d29-d45a-417a-929e-1dd71d6d36e4"
      },
      "source": [
        "# fit differnt samples of data and then full data\n",
        "keras_model2.fit(xtrain,ytrain, epochs=5, sample_weight=sample_weight,\n",
        "          batch_size=512, verbose=1,validation_split=0.11)\n",
        "keras_model2.fit(xtrain,ytrain, epochs=6, sample_weight=sample_weight,\n",
        "          batch_size=270, verbose=1,validation_split=0.11)\n",
        "keras_model2.fit(xtrain,ytrain, epochs=5, sample_weight=sample_weight,\n",
        "          batch_size=270, verbose=1,validation_split=0.11)\n",
        "keras_model2.fit(xtrain,ytrain, epochs=5, sample_weight=sample_weight,\n",
        "          batch_size=512, verbose=1)\n",
        "keras_model2.fit(xtrain,ytrain, epochs=4, sample_weight=sample_weight,\n",
        "          batch_size=512, verbose=1)\n",
        "keras_model2.fit(xtrain,ytrain, epochs=4, sample_weight=sample_weight,\n",
        "          batch_size=512, verbose=1)"
      ],
      "execution_count": 55,
      "outputs": [
        {
          "output_type": "stream",
          "text": [
            "/usr/local/lib/python3.6/dist-packages/tensorflow/python/framework/indexed_slices.py:434: UserWarning: Converting sparse IndexedSlices to a dense Tensor of unknown shape. This may consume a large amount of memory.\n",
            "  \"Converting sparse IndexedSlices to a dense Tensor of unknown shape. \"\n"
          ],
          "name": "stderr"
        },
        {
          "output_type": "stream",
          "text": [
            "Train on 185650 samples, validate on 22946 samples\n",
            "Epoch 1/5\n",
            "185650/185650 [==============================] - 687s 4ms/step - loss: 11.4040 - val_loss: 5.3682\n",
            "Epoch 2/5\n",
            "185650/185650 [==============================] - 678s 4ms/step - loss: 9.5587 - val_loss: 5.1585\n",
            "Epoch 3/5\n",
            "185650/185650 [==============================] - 673s 4ms/step - loss: 8.6609 - val_loss: 5.1163\n",
            "Epoch 4/5\n",
            "185650/185650 [==============================] - 670s 4ms/step - loss: 7.8552 - val_loss: 5.1771\n",
            "Epoch 5/5\n",
            "185650/185650 [==============================] - 671s 4ms/step - loss: 7.1235 - val_loss: 5.3050\n",
            "Train on 185650 samples, validate on 22946 samples\n",
            "Epoch 1/6\n",
            "185650/185650 [==============================] - 772s 4ms/step - loss: 7.0108 - val_loss: 5.5259\n",
            "Epoch 2/6\n",
            "185650/185650 [==============================] - 769s 4ms/step - loss: 6.1872 - val_loss: 5.7557\n",
            "Epoch 3/6\n",
            "185650/185650 [==============================] - 776s 4ms/step - loss: 5.6365 - val_loss: 5.9825\n",
            "Epoch 4/6\n",
            "185650/185650 [==============================] - 764s 4ms/step - loss: 5.2525 - val_loss: 6.1717\n",
            "Epoch 5/6\n",
            "185650/185650 [==============================] - 764s 4ms/step - loss: 4.9714 - val_loss: 6.3459\n",
            "Epoch 6/6\n",
            "185650/185650 [==============================] - 765s 4ms/step - loss: 4.7722 - val_loss: 6.4356\n",
            "Train on 185650 samples, validate on 22946 samples\n",
            "Epoch 1/5\n",
            "185650/185650 [==============================] - 764s 4ms/step - loss: 4.6232 - val_loss: 6.5923\n",
            "Epoch 2/5\n",
            "185650/185650 [==============================] - 764s 4ms/step - loss: 4.5091 - val_loss: 6.6882\n",
            "Epoch 3/5\n",
            "185650/185650 [==============================] - 764s 4ms/step - loss: 4.4159 - val_loss: 6.7494\n",
            "Epoch 4/5\n",
            "185650/185650 [==============================] - 765s 4ms/step - loss: 4.3541 - val_loss: 6.7854\n",
            "Epoch 5/5\n",
            "185650/185650 [==============================] - 768s 4ms/step - loss: 4.2953 - val_loss: 6.8535\n",
            "Epoch 1/5\n",
            "208596/208596 [==============================] - 732s 4ms/step - loss: 3.9572\n",
            "Epoch 2/5\n",
            "208596/208596 [==============================] - 732s 4ms/step - loss: 3.7515\n",
            "Epoch 3/5\n",
            "208596/208596 [==============================] - 732s 4ms/step - loss: 3.7476\n",
            "Epoch 4/5\n",
            "208596/208596 [==============================] - 728s 3ms/step - loss: 3.7504\n",
            "Epoch 5/5\n",
            "208596/208596 [==============================] - 728s 3ms/step - loss: 3.7473\n",
            "Epoch 1/4\n",
            "208596/208596 [==============================] - 727s 3ms/step - loss: 3.7415\n",
            "Epoch 2/4\n",
            "208596/208596 [==============================] - 728s 3ms/step - loss: 3.7288\n",
            "Epoch 3/4\n",
            "208596/208596 [==============================] - 731s 4ms/step - loss: 3.7089\n",
            "Epoch 4/4\n",
            "208596/208596 [==============================] - 729s 3ms/step - loss: 3.6967\n",
            "Epoch 1/4\n",
            "208596/208596 [==============================] - 733s 4ms/step - loss: 3.6781\n",
            "Epoch 2/4\n",
            "208596/208596 [==============================] - 733s 4ms/step - loss: 3.6595\n",
            "Epoch 3/4\n",
            "208596/208596 [==============================] - 734s 4ms/step - loss: 3.6432\n",
            "Epoch 4/4\n",
            "208596/208596 [==============================] - 735s 4ms/step - loss: 3.6257\n"
          ],
          "name": "stdout"
        },
        {
          "output_type": "execute_result",
          "data": {
            "text/plain": [
              "<keras.callbacks.callbacks.History at 0x7f4aac209c88>"
            ]
          },
          "metadata": {
            "tags": []
          },
          "execution_count": 55
        }
      ]
    },
    {
      "cell_type": "code",
      "metadata": {
        "id": "n4Y9-Cb1AsA0",
        "colab_type": "code",
        "colab": {}
      },
      "source": [
        "import pickle\n",
        "pickle.dump(keras_model2.to_json(),open('gru4.pkl','wb'))"
      ],
      "execution_count": 73,
      "outputs": []
    },
    {
      "cell_type": "code",
      "metadata": {
        "id": "s2RGUKFlBF33",
        "colab_type": "code",
        "colab": {}
      },
      "source": [
        "import h5py\n",
        "import keras\n",
        "# from importlib import reload\n",
        "# import keras\n",
        "keras_model2.save_weights('gru4.weights')"
      ],
      "execution_count": 74,
      "outputs": []
    },
    {
      "cell_type": "code",
      "metadata": {
        "id": "nNEKpiddBNgv",
        "colab_type": "code",
        "colab": {}
      },
      "source": [
        "def sample(preds, temperature=1.0):\n",
        "    if temperature <= 0:\n",
        "        return preds.argsort()[-3:][::-1]\n",
        "    preds = np.asarray(preds).astype('float64')\n",
        "    preds = np.log(preds) / temperature\n",
        "    exp_preds = np.exp(preds)\n",
        "    preds = exp_preds / np.sum(exp_preds)\n",
        "    probas = np.random.multinomial(1, preds, 1)\n",
        "#     print max(probas[0])\n",
        "    retar= probas[0].argsort()[-3:][::-1]\n",
        "    return retar\n",
        "\n",
        "def generate_next(text):\n",
        "    global count \n",
        "    count =0\n",
        "    count+=1\n",
        "    if count%100==0:\n",
        "       print (count)\n",
        "    word_idxs = [word2idx(word) for word in text.split()]\n",
        "    prediction = keras_model2.predict(x=np.array(word_idxs))\n",
        "#     print prediction\n",
        "    idxl = sample(prediction[-1], temperature=0.0)\n",
        "#     word_idxs.e(idx)\n",
        "#     print idxl\n",
        "    return [idx2word(idx) for idx in idxl]"
      ],
      "execution_count": 75,
      "outputs": []
    },
    {
      "cell_type": "code",
      "metadata": {
        "id": "995IXI0TBNmw",
        "colab_type": "code",
        "colab": {
          "base_uri": "https://localhost:8080/",
          "height": 35
        },
        "outputId": "501bd230-679a-4ed0-f72a-ad07988bbef6"
      },
      "source": [
        "test.challenge.values[0]"
      ],
      "execution_count": 76,
      "outputs": [
        {
          "output_type": "execute_result",
          "data": {
            "application/vnd.google.colaboratory.intrinsic": {
              "type": "string"
            },
            "text/plain": [
              "'CI23855 CI23933 CI24917 CI24915 CI23714 CI23663 CI24958 CI25135 CI25727 CI24530'"
            ]
          },
          "metadata": {
            "tags": []
          },
          "execution_count": 76
        }
      ]
    },
    {
      "cell_type": "code",
      "metadata": {
        "id": "eNIvz6-TCjlb",
        "colab_type": "code",
        "colab": {
          "base_uri": "https://localhost:8080/",
          "height": 34
        },
        "outputId": "2a3fd389-40b3-4a48-dcfb-81c76d797926"
      },
      "source": [
        "generate_next('CI23855 CI23933 CI24917 CI24915 CI23714 CI23663 CI24958 CI25135 CI25727 CI24530')\n"
      ],
      "execution_count": 77,
      "outputs": [
        {
          "output_type": "execute_result",
          "data": {
            "text/plain": [
              "['CI25925', 'CI24349', 'CI28625']"
            ]
          },
          "metadata": {
            "tags": []
          },
          "execution_count": 77
        }
      ]
    },
    {
      "cell_type": "code",
      "metadata": {
        "id": "8KOIqIZxBsHN",
        "colab_type": "code",
        "colab": {}
      },
      "source": [
        "test_inds=np.array(test.challenge.apply(lambda x: np.array([word2idx(word) for word in x.split()])).tolist())"
      ],
      "execution_count": 78,
      "outputs": []
    },
    {
      "cell_type": "code",
      "metadata": {
        "id": "QqM_9hNRB2ya",
        "colab_type": "code",
        "colab": {
          "base_uri": "https://localhost:8080/",
          "height": 34
        },
        "outputId": "fba04af8-716a-4237-fd30-a7e29b44a003"
      },
      "source": [
        "test_inds.shape, xtrain.shape"
      ],
      "execution_count": 79,
      "outputs": [
        {
          "output_type": "execute_result",
          "data": {
            "text/plain": [
              "((39732, 10), (208596, 10))"
            ]
          },
          "metadata": {
            "tags": []
          },
          "execution_count": 79
        }
      ]
    },
    {
      "cell_type": "code",
      "metadata": {
        "id": "Ev_YIHjTB2-m",
        "colab_type": "code",
        "colab": {}
      },
      "source": [
        "# make predictions\n",
        "nnpred=keras_model2.predict(test_inds)"
      ],
      "execution_count": 80,
      "outputs": []
    },
    {
      "cell_type": "code",
      "metadata": {
        "id": "P0Ix13cDDHfq",
        "colab_type": "code",
        "colab": {
          "base_uri": "https://localhost:8080/",
          "height": 34
        },
        "outputId": "9ab504fc-1ffb-4e20-b3c8-9f6112c22493"
      },
      "source": [
        "nnpred.shape"
      ],
      "execution_count": 81,
      "outputs": [
        {
          "output_type": "execute_result",
          "data": {
            "text/plain": [
              "(39732, 5502)"
            ]
          },
          "metadata": {
            "tags": []
          },
          "execution_count": 81
        }
      ]
    },
    {
      "cell_type": "code",
      "metadata": {
        "id": "D2U8SDpWDIur",
        "colab_type": "code",
        "colab": {}
      },
      "source": [
        "nnpred2= pd.Series(nnpred.argsort(axis=1)[:,-3:].tolist())"
      ],
      "execution_count": 82,
      "outputs": []
    },
    {
      "cell_type": "code",
      "metadata": {
        "id": "jN9IRfEDDZ0I",
        "colab_type": "code",
        "colab": {}
      },
      "source": [
        "# store to csv\n",
        "count=0\n",
        "test['pred']=nnpred2.apply(lambda x: [idx2word(y) for y in x[::-1]])\n",
        "test_sub= test.copy()\n",
        "test_sub=pd.concat((test_sub,test_sub,test_sub))\n",
        "test_sub=test_sub.sort_values('user_id').reset_index(drop=True)\n",
        "test_sub['seq']=test_sub.groupby('user_id').cumcount()\n",
        "test_sub.seq= test_sub.seq+11\n",
        "test_sub['user_sequence']= test_sub.user_id.astype('str') + '_' + test_sub.seq.astype('str')\n",
        "test_sub['challenge']=test_sub.apply(lambda row: row['pred'][row['seq']-11], axis=1)\n",
        "test_sub[['user_sequence','challenge']].to_csv('ksubmission.csv',index=False)"
      ],
      "execution_count": 83,
      "outputs": []
    },
    {
      "cell_type": "code",
      "metadata": {
        "id": "hxEZwNdaV-7Q",
        "colab_type": "code",
        "colab": {}
      },
      "source": [
        ""
      ],
      "execution_count": null,
      "outputs": []
    }
  ]
}